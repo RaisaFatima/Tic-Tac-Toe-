{
 "cells": [
  {
   "cell_type": "markdown",
   "id": "ca64adc8",
   "metadata": {},
   "source": [
    "### Tic Tac Toe Draft Project\n",
    "For the final project, I'm doing a tic tac toe game. I couldn't get the tic tac toe game to run so far but did my best to explain what I did and what (I think) is going on. I'ld really appreciate feedback on the peer review on what I can do to fix these issues. \n",
    "\n",
    "What I first did is separate out the project into 3 different parts and ran each of them individually to make sure they were working. And then I put them altogether at the end to see how to make it work. I also have some other blocks of code experimenting with getting the output to work."
   ]
  },
  {
   "cell_type": "markdown",
   "id": "d1bf72df",
   "metadata": {},
   "source": [
    "#### An empty Tic Tac Toe board\n",
    "First I created a function that prints out an empty tic tac toe board so that the player can see the board places. This function  is working ok."
   ]
  },
  {
   "cell_type": "code",
   "execution_count": null,
   "id": "e0cad189",
   "metadata": {},
   "outputs": [],
   "source": [
    "def board():\n",
    "    grid = [[1, 2, 3], [4, 5, 6], [7, 8, 9]]\n",
    "    \n",
    "    print(str(grid[0][0]) + \"|\" + str(grid[0][1]) + \"|\" + str(grid[0][2]), end = \"\\n\")\n",
    "    print(str(grid[1][0]) + \"|\" + str(grid[1][1]) + \"|\" + str(grid[1][2]), end = \"\\n\")\n",
    "    print(str(grid[2][0]) + \"|\" + str(grid[2][1]) + \"|\" + str(grid[2][2]))\n",
    "\n",
    "board()"
   ]
  },
  {
   "cell_type": "markdown",
   "id": "f6003e14",
   "metadata": {},
   "source": [
    "#### Picking between X or O and Board Placement\n",
    "Then I made functions based on the user input (pick X or O) and place input (pick a number to put X or O there). I wanted to put in \"checks\" where the program tells the user to put an X or O or put any number from 1-9 if the user does neither of these things but had trouble with that as well. Feedback here would be appreciated."
   ]
  },
  {
   "cell_type": "code",
   "execution_count": null,
   "id": "81edd74e",
   "metadata": {},
   "outputs": [],
   "source": [
    "def user_input():\n",
    "    user = input(\"First enter X or O: \")\n",
    "    #if user.upper()!=\"X\" or user.upper()!=\"O\": #I was trying to put in checks for the user input but had issues\n",
    "        #print(\"Please put down X or O. I just wanna play :(\")\n",
    "        #break\n",
    "\n",
    "def place_input():\n",
    "    place = int(input(\"Put down where you want to put X or O: \"))\n",
    "    #if place<1 or place>9:\n",
    "    #print(\"Please put down a REAL place on the tic tac toe table\") \n",
    "    #break\n",
    "    #I was trying to put in checks for the place input but had issues\n",
    "    \n",
    "user_input()\n",
    "place_input()\n",
    "\n",
    "#corrected part now in the \"Putting it all together section\""
   ]
  },
  {
   "cell_type": "markdown",
   "id": "647127cb",
   "metadata": {},
   "source": [
    "#### Experimenting with changing lists\n",
    "As you can see in the board function, I made a list of lists.  I first tested out modifying lists using a user input."
   ]
  },
  {
   "cell_type": "code",
   "execution_count": null,
   "id": "d4ab9cb7",
   "metadata": {},
   "outputs": [],
   "source": [
    "a = int(input()) #from 0 to 4\n",
    "\n",
    "#store things in array\n",
    "eg = [1, 2, 3, 4, 5]\n",
    "print(str(eg[0]) + \"|\" + str(eg[a]))\n",
    "eg[0] = \"X\"\n",
    "print(str(eg[0]) + \"|\" + str(eg[a]))"
   ]
  },
  {
   "cell_type": "markdown",
   "id": "e9670de7",
   "metadata": {},
   "source": [
    "I then tried testing modifying a list of lists. I then tried to uses what I had here in these blocks of code and apply it below."
   ]
  },
  {
   "cell_type": "code",
   "execution_count": null,
   "id": "c4e44adb",
   "metadata": {},
   "outputs": [],
   "source": [
    "f = [[1, 2, 3], [4, 5, 6], [7, 8, 9]]\n",
    "print(str(f[0][0]))\n",
    "f[0][0] = \"X\"\n",
    "print(str(f[0][0]))"
   ]
  },
  {
   "cell_type": "markdown",
   "id": "fe2bb44d",
   "metadata": {},
   "source": [
    "#### Putting it all together...."
   ]
  },
  {
   "cell_type": "code",
   "execution_count": 3,
   "id": "0013a08a",
   "metadata": {},
   "outputs": [
    {
     "name": "stdout",
     "output_type": "stream",
     "text": [
      "1|2|3\n",
      "4|5|6\n",
      "7|8|9\n",
      "First enter X or O: x\n",
      "Put down where you want to put X or O: 3\n",
      "1|2|X\n",
      "4|5|6\n",
      "7|8|9\n"
     ]
    }
   ],
   "source": [
    "def board(): #we have the board function\n",
    "    grid = [[1, 2, 3], [4, 5, 6], [7, 8, 9]]\n",
    "    \n",
    "    print(str(grid[0][0]) + \"|\" + str(grid[0][1]) + \"|\" + str(grid[0][2]), end = \"\\n\")\n",
    "    print(str(grid[1][0]) + \"|\" + str(grid[1][1]) + \"|\" + str(grid[1][2]), end = \"\\n\")\n",
    "    print(str(grid[2][0]) + \"|\" + str(grid[2][1]) + \"|\" + str(grid[2][2]))\n",
    "    \n",
    "    return grid #this saves grid into variable b\n",
    "\n",
    "def user_input(): \n",
    "    user = input(\"First enter X or O: \")\n",
    "    while not (user.upper()==\"X\" or user.upper()==\"O\"):\n",
    "        print(\"Please put down X or O. I just wanna play :(\")\n",
    "        user = input(\"First enter X or O: \")\n",
    "    return user\n",
    "\n",
    "def place_input():\n",
    "    place = int(input(\"Put down where you want to put X or O: \"))\n",
    "    while (place<1 or place>9):\n",
    "        print(\"Please put down a REAL place on the tic tac toe table\")\n",
    "        place = int(input(\"Put down where you want to put X or O: \"))\n",
    "    return place\n",
    "\n",
    "b = board()\n",
    "\n",
    "def place_to_index(index):\n",
    "    mapping = [None, (0, 0), (0, 1), (0, 2), (1, 0), (1, 1), (1, 2), (2, 0), (2, 1), (2, 2)] \n",
    "    #we're writing the user's place to the list index\n",
    "    return mapping[index]\n",
    "\n",
    "def write(grid): #we're accessing the local variable grid to change \n",
    "    u = user_input() #I set the user and place functions as a variable so I can set them to X, O or a number \n",
    "    p = place_input() #between 1-9 for the if/else statements\n",
    "    grid_place = place_to_index(int(p)) #this is the part that changes the grid\n",
    "    grid[grid_place[0]][grid_place[1]] = u.upper()\n",
    "    \n",
    "    print(str(grid[0][0]) + \"|\" + str(grid[0][1]) + \"|\" + str(grid[0][2]), end = \"\\n\")\n",
    "    print(str(grid[1][0]) + \"|\" + str(grid[1][1]) + \"|\" + str(grid[1][2]), end = \"\\n\")\n",
    "    print(str(grid[2][0]) + \"|\" + str(grid[2][1]) + \"|\" + str(grid[2][2]))\n",
    "\n",
    "write(b)"
   ]
  },
  {
   "cell_type": "markdown",
   "id": "742c717b",
   "metadata": {},
   "source": [
    "As you can see, it's giving the wrong input because it ONLY prints out the initial empty board. It's not saving the X or O inputs in the if/else statements and I don't know how to to fix it.\n",
    "\n",
    "This is only the \"1st step.\" Later on, I'm going to add the computer's turn and add a for loop so that it keeps going and the player can keep playing."
   ]
  },
  {
   "cell_type": "code",
   "execution_count": null,
   "id": "5d71e187",
   "metadata": {},
   "outputs": [],
   "source": [
    "#peer review feedback\n",
    "#I was thinking of doing something similar to this. What I found is that after creating the board, \n",
    "#you should have a function that runs after every move that sort of checks for a winner. \n",
    "#That way, since each box is an individual number, you can have something where if 1, 2, and 3 are ==, winner, \n",
    "#and so on for each possible combo. I think that it would also help to just make the user select a row and column instead of a specific square. \n",
    "#To help with the board, maybe you can start with something like user = 1, and then after the prompt of selecting your move, \n",
    "#you can make it so that all the boxes are 0 to start, \n",
    "#and then when someone moves there, it becomes a 1. \n",
    "#Then, board[row][column] = user, which would make that spot a 1 instead of a 0, and now you just have to print the board again. \n",
    "#I hope that can help"
   ]
  },
  {
   "cell_type": "markdown",
   "id": "1e476f31",
   "metadata": {},
   "source": [
    "#### Next Steps...\n",
    "\n",
    "1. put in if/else statements for comp input\n",
    "4. make a for loop of functions where you can continue the game"
   ]
  },
  {
   "cell_type": "code",
   "execution_count": null,
   "id": "67b30e58",
   "metadata": {},
   "outputs": [],
   "source": [
    "#first get computer to pick x or o\n",
    "def comp_input():\n",
    "    u = user_input()\n",
    "    if u.upper()==\"X\":\n",
    "        c == \"O\"\n",
    "    else:\n",
    "        c == \"X\"\n",
    "    return c"
   ]
  },
  {
   "cell_type": "code",
   "execution_count": null,
   "id": "eb6ca0c7",
   "metadata": {},
   "outputs": [],
   "source": [
    "#then get computer to pick place\n",
    "import random\n",
    "\n",
    "def cplace_input():\n",
    "    #bunch of if/elif statements state\n",
    "    #else:\n",
    "    cp = random.randrange(1,9,1)\n",
    "    cplace=place_input(cp)\n",
    "    return cplace"
   ]
  },
  {
   "cell_type": "code",
   "execution_count": 13,
   "id": "0f19bb1a",
   "metadata": {},
   "outputs": [
    {
     "name": "stdout",
     "output_type": "stream",
     "text": [
      "1|2|3\n",
      "4|5|6\n",
      "7|8|9\n",
      "First enter X or O: o\n",
      "1|2|3\n",
      "4|5|X\n",
      "7|8|9\n"
     ]
    }
   ],
   "source": [
    "import random\n",
    "\n",
    "def board(): #we have the board function\n",
    "    grid = [[1, 2, 3], [4, 5, 6], [7, 8, 9]]\n",
    "    \n",
    "    print(str(grid[0][0]) + \"|\" + str(grid[0][1]) + \"|\" + str(grid[0][2]), end = \"\\n\")\n",
    "    print(str(grid[1][0]) + \"|\" + str(grid[1][1]) + \"|\" + str(grid[1][2]), end = \"\\n\")\n",
    "    print(str(grid[2][0]) + \"|\" + str(grid[2][1]) + \"|\" + str(grid[2][2]))\n",
    "    \n",
    "    return grid #this saves grid into variable b\n",
    "\n",
    "b=board()\n",
    "\n",
    "def user_input(): \n",
    "    user = input(\"First enter X or O: \")\n",
    "    while not (user.upper()==\"X\" or user.upper()==\"O\"):\n",
    "        print(\"Please put down X or O. I just wanna play :(\")\n",
    "        user = input(\"First enter X or O: \")\n",
    "    return user\n",
    "\n",
    "def place_input():\n",
    "    place = int(input(\"Put down where you want to put X or O: \"))\n",
    "    while (place<1 or place>9):\n",
    "        print(\"Please put down a REAL place on the tic tac toe table\")\n",
    "        place = int(input(\"Put down where you want to put X or O: \"))\n",
    "    return place\n",
    "\n",
    "def place_to_index(index):\n",
    "    mapping = [None, (0, 0), (0, 1), (0, 2), (1, 0), (1, 1), (1, 2), (2, 0), (2, 1), (2, 2)] \n",
    "    #we're writing the place to the list index\n",
    "    return mapping[index]\n",
    "\n",
    "def cplace_input():\n",
    "    #bunch of if/elif statements state\n",
    "    #else:\n",
    "    cp = random.randint(1, 9)\n",
    "    #cplace=place_to_index(cp)\n",
    "    return cp\n",
    "\n",
    "def comp_input():\n",
    "    u = user_input()\n",
    "    if u.upper()==\"X\":\n",
    "        c = \"O\"\n",
    "    else:\n",
    "        c = \"X\"\n",
    "    return c\n",
    "\n",
    "def comp_write(grid):\n",
    "    c = comp_input()\n",
    "    cp = cplace_input()\n",
    "    grid_place = place_to_index(int(cp)) \n",
    "    grid[grid_place[0]][grid_place[1]] = c.upper()\n",
    "    \n",
    "    print(str(grid[0][0]) + \"|\" + str(grid[0][1]) + \"|\" + str(grid[0][2]), end = \"\\n\")\n",
    "    print(str(grid[1][0]) + \"|\" + str(grid[1][1]) + \"|\" + str(grid[1][2]), end = \"\\n\")\n",
    "    print(str(grid[2][0]) + \"|\" + str(grid[2][1]) + \"|\" + str(grid[2][2]))\n",
    "    \n",
    "#i basically did the same thing as with the user input \n",
    "comp_write(b)"
   ]
  },
  {
   "cell_type": "code",
   "execution_count": null,
   "id": "69e30bd9",
   "metadata": {},
   "outputs": [],
   "source": []
  }
 ],
 "metadata": {
  "kernelspec": {
   "display_name": "Python 3 (ipykernel)",
   "language": "python",
   "name": "python3"
  },
  "language_info": {
   "codemirror_mode": {
    "name": "ipython",
    "version": 3
   },
   "file_extension": ".py",
   "mimetype": "text/x-python",
   "name": "python",
   "nbconvert_exporter": "python",
   "pygments_lexer": "ipython3",
   "version": "3.9.12"
  }
 },
 "nbformat": 4,
 "nbformat_minor": 5
}
