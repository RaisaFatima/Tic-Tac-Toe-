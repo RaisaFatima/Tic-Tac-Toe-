{
 "cells": [
  {
   "cell_type": "code",
   "execution_count": null,
   "id": "e413c2c2",
   "metadata": {},
   "outputs": [],
   "source": []
  },
  {
   "cell_type": "code",
   "execution_count": 74,
   "id": "9145a410",
   "metadata": {},
   "outputs": [
    {
     "name": "stdout",
     "output_type": "stream",
     "text": [
      "First enter X or O: g\n",
      "Put down where you want to put X or O: 4\n",
      "ok\n"
     ]
    }
   ],
   "source": [
    "user = input(\"First enter X or O: \")\n",
    "place = int(input(\"Put down where you want to put X or O: \")) \n",
    "\n",
    "if place==1 and user.upper()==\"X\": \n",
    "    print(\"X|2|3\")\n",
    "    print(\"-----\")\n",
    "    print(\"4|5|6\")\n",
    "    print(\"-----\")\n",
    "    print(\"7|8|9\")\n",
    "elif place==2 and user.upper()==\"X\":\n",
    "    print(\"1|X|3\")\n",
    "    print(\"-----\")\n",
    "    print(\"4|5|6\")\n",
    "    print(\"-----\")\n",
    "    print(\"7|8|9\")\n",
    "else:\n",
    "    print(\"ok\")"
   ]
  },
  {
   "cell_type": "code",
   "execution_count": 15,
   "id": "e0cad189",
   "metadata": {},
   "outputs": [
    {
     "name": "stdout",
     "output_type": "stream",
     "text": [
      "1|2|3\n",
      "4|5|6\n",
      "7|8|9\n"
     ]
    }
   ],
   "source": [
    "def board():\n",
    "    row1=[1, 2, 3]\n",
    "    border=[\"-----\"]\n",
    "    row2=[4, 5, 6]\n",
    "    row3=[7, 8, 9]\n",
    "    \n",
    "    print(str(row1[0]) + \"|\" + str(row1[1]) + \"|\" + str(row1[2]))\n",
    "    #print(str(border))\n",
    "    print(str(row2[0]) + \"|\" + str(row2[1]) + \"|\" + str(row2[2]))\n",
    "    #print(str(border))\n",
    "    print(str(row3[0]) + \"|\" + str(row3[1]) + \"|\" + str(row3[2]))\n",
    "\n",
    "board()"
   ]
  },
  {
   "cell_type": "code",
   "execution_count": 19,
   "id": "81edd74e",
   "metadata": {},
   "outputs": [
    {
     "name": "stdout",
     "output_type": "stream",
     "text": [
      "First enter X or O: o\n",
      "Put down where you want to put X or O: 4\n"
     ]
    }
   ],
   "source": [
    "def user_input():\n",
    "    user = input(\"First enter X or O: \")\n",
    "    #if user.upper()!=\"X\" or user.upper()!=\"O\": #I was trying to put in checks for the user input but had issues\n",
    "        #print(\"Please put down X or O. I just wanna play :(\")\n",
    "        #break\n",
    "\n",
    "def place_input():\n",
    "    place = int(input(\"Put down where you want to put X or O: \"))\n",
    "    #if place<1 or place>9:\n",
    "    #print(\"Please put down a REAL place on the tic tac toe table\") \n",
    "    #break\n",
    "    #I was trying to put in checks for the place input but had issues\n",
    "    \n",
    "user_input()\n",
    "place_input()"
   ]
  },
  {
   "cell_type": "code",
   "execution_count": 16,
   "id": "260dcdcc",
   "metadata": {},
   "outputs": [
    {
     "name": "stdout",
     "output_type": "stream",
     "text": [
      "1|2|3\n",
      "4|5|6\n",
      "7|8|9\n"
     ]
    }
   ],
   "source": [
    "#board()\n",
    "l = user_input()\n",
    "p = place_input()\n",
    "\n",
    "def write(l, p):\n",
    "    \n",
    "    "
   ]
  },
  {
   "cell_type": "code",
   "execution_count": 20,
   "id": "d4ab9cb7",
   "metadata": {},
   "outputs": [
    {
     "name": "stdout",
     "output_type": "stream",
     "text": [
      "2\n",
      "1|3\n",
      "X|3\n"
     ]
    }
   ],
   "source": [
    "p = int(input()) #from 0 to 4\n",
    "\n",
    "#store things in array\n",
    "eg = [1, 2, 3, 4, 5]\n",
    "print(str(eg[0]) + \"|\" + str(eg[p]))\n",
    "eg[0] = \"X\"\n",
    "print(str(eg[0]) + \"|\" + str(eg[p]))"
   ]
  },
  {
   "cell_type": "code",
   "execution_count": null,
   "id": "22a934f9",
   "metadata": {},
   "outputs": [],
   "source": []
  }
 ],
 "metadata": {
  "kernelspec": {
   "display_name": "Python 3 (ipykernel)",
   "language": "python",
   "name": "python3"
  },
  "language_info": {
   "codemirror_mode": {
    "name": "ipython",
    "version": 3
   },
   "file_extension": ".py",
   "mimetype": "text/x-python",
   "name": "python",
   "nbconvert_exporter": "python",
   "pygments_lexer": "ipython3",
   "version": "3.9.12"
  }
 },
 "nbformat": 4,
 "nbformat_minor": 5
}
