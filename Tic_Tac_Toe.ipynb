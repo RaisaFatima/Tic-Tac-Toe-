{
 "cells": [
  {
   "cell_type": "markdown",
   "id": "ca64adc8",
   "metadata": {},
   "source": [
    "### Tic Tac Toe Draft Project\n",
    "For the final project, I'm doing a tic tac toe game. I couldn't get the tic tac toe game to run so far but did my best to explain what I did and what (I think) is going on. I'ld really appreciate feedback on the peer review on what I can do to fix these issues. \n",
    "\n",
    "What I first did is separate out the project into 3 different parts and ran each of them individually to make sure they were working. And then I put them altogether at the end to see how to make it work. I also have some other blocks of code experimenting with getting the output to work."
   ]
  },
  {
   "cell_type": "markdown",
   "id": "d1bf72df",
   "metadata": {},
   "source": [
    "#### An empty Tic Tac Toe board\n",
    "First I created a function that prints out an empty tic tac toe board so that the player can see the board places. This function  is working ok."
   ]
  },
  {
   "cell_type": "code",
   "execution_count": null,
   "id": "e0cad189",
   "metadata": {},
   "outputs": [],
   "source": [
    "def board():\n",
    "    grid = [[1, 2, 3], [4, 5, 6], [7, 8, 9]]\n",
    "    \n",
    "    print(str(grid[0][0]) + \"|\" + str(grid[0][1]) + \"|\" + str(grid[0][2]), end = \"\\n\")\n",
    "    print(str(grid[1][0]) + \"|\" + str(grid[1][1]) + \"|\" + str(grid[1][2]), end = \"\\n\")\n",
    "    print(str(grid[2][0]) + \"|\" + str(grid[2][1]) + \"|\" + str(grid[2][2]))\n",
    "\n",
    "board()"
   ]
  },
  {
   "cell_type": "markdown",
   "id": "f6003e14",
   "metadata": {},
   "source": [
    "#### Picking between X or O and Board Placement\n",
    "Then I made functions based on the user input (pick X or O) and place input (pick a number to put X or O there). I wanted to put in \"checks\" where the program tells the user to put an X or O or put any number from 1-9 if the user does neither of these things but had trouble with that as well. Feedback here would be appreciated."
   ]
  },
  {
   "cell_type": "code",
   "execution_count": null,
   "id": "81edd74e",
   "metadata": {},
   "outputs": [],
   "source": [
    "def user_input():\n",
    "    user = input(\"First enter X or O: \")\n",
    "    #if user.upper()!=\"X\" or user.upper()!=\"O\": #I was trying to put in checks for the user input but had issues\n",
    "        #print(\"Please put down X or O. I just wanna play :(\")\n",
    "        #break\n",
    "\n",
    "def place_input():\n",
    "    place = int(input(\"Put down where you want to put X or O: \"))\n",
    "    #if place<1 or place>9:\n",
    "    #print(\"Please put down a REAL place on the tic tac toe table\") \n",
    "    #break\n",
    "    #I was trying to put in checks for the place input but had issues\n",
    "    \n",
    "user_input()\n",
    "place_input()"
   ]
  },
  {
   "cell_type": "markdown",
   "id": "647127cb",
   "metadata": {},
   "source": [
    "#### Experimenting with changing lists\n",
    "As you can see in the board function, I made a list of lists.  I first tested out modifying lists using a user input."
   ]
  },
  {
   "cell_type": "code",
   "execution_count": null,
   "id": "d4ab9cb7",
   "metadata": {},
   "outputs": [],
   "source": [
    "a = int(input()) #from 0 to 4\n",
    "\n",
    "#store things in array\n",
    "eg = [1, 2, 3, 4, 5]\n",
    "print(str(eg[0]) + \"|\" + str(eg[a]))\n",
    "eg[0] = \"X\"\n",
    "print(str(eg[0]) + \"|\" + str(eg[a]))"
   ]
  },
  {
   "cell_type": "markdown",
   "id": "e9670de7",
   "metadata": {},
   "source": [
    "I then tried testing modifying a list of lists. I then tried to uses what I had here in these blocks of code and apply it below."
   ]
  },
  {
   "cell_type": "code",
   "execution_count": null,
   "id": "c4e44adb",
   "metadata": {},
   "outputs": [],
   "source": [
    "f = [[1, 2, 3], [4, 5, 6], [7, 8, 9]]\n",
    "print(str(f[0][0]))\n",
    "f[0][0] = \"X\"\n",
    "print(str(f[0][0]))"
   ]
  },
  {
   "cell_type": "markdown",
   "id": "fe2bb44d",
   "metadata": {},
   "source": [
    "#### Putting it all together...."
   ]
  },
  {
   "cell_type": "code",
   "execution_count": 5,
   "id": "0013a08a",
   "metadata": {},
   "outputs": [
    {
     "name": "stdout",
     "output_type": "stream",
     "text": [
      "1|2|3\n",
      "4|5|6\n",
      "7|8|9\n",
      "First enter X or O: d\n",
      "Please put down X or O. I just wanna play :(\n",
      "First enter X or O: f\n",
      "Please put down X or O. I just wanna play :(\n",
      "First enter X or O: o\n",
      "Put down where you want to put X or O: 1.1\n"
     ]
    },
    {
     "ename": "ValueError",
     "evalue": "invalid literal for int() with base 10: '1.1'",
     "output_type": "error",
     "traceback": [
      "\u001b[1;31m---------------------------------------------------------------------------\u001b[0m",
      "\u001b[1;31mValueError\u001b[0m                                Traceback (most recent call last)",
      "Input \u001b[1;32mIn [5]\u001b[0m, in \u001b[0;36m<cell line: 89>\u001b[1;34m()\u001b[0m\n\u001b[0;32m     71\u001b[0m     \u001b[38;5;28mprint\u001b[39m(\u001b[38;5;28mstr\u001b[39m(grid[\u001b[38;5;241m2\u001b[39m][\u001b[38;5;241m0\u001b[39m]) \u001b[38;5;241m+\u001b[39m \u001b[38;5;124m\"\u001b[39m\u001b[38;5;124m|\u001b[39m\u001b[38;5;124m\"\u001b[39m \u001b[38;5;241m+\u001b[39m \u001b[38;5;28mstr\u001b[39m(grid[\u001b[38;5;241m2\u001b[39m][\u001b[38;5;241m1\u001b[39m]) \u001b[38;5;241m+\u001b[39m \u001b[38;5;124m\"\u001b[39m\u001b[38;5;124m|\u001b[39m\u001b[38;5;124m\"\u001b[39m \u001b[38;5;241m+\u001b[39m \u001b[38;5;28mstr\u001b[39m(grid[\u001b[38;5;241m2\u001b[39m][\u001b[38;5;241m2\u001b[39m]))\n\u001b[0;32m     72\u001b[0m     \u001b[38;5;66;03m#this is where I'm having trouble - from the previous 2 code blocks I thought that\u001b[39;00m\n\u001b[0;32m     73\u001b[0m     \u001b[38;5;66;03m#I had already set the variables to X or O and changed the grid list values and \u001b[39;00m\n\u001b[0;32m     74\u001b[0m     \u001b[38;5;66;03m#putting in print statements will give the grid with X and O values\u001b[39;00m\n\u001b[1;32m   (...)\u001b[0m\n\u001b[0;32m     86\u001b[0m     \u001b[38;5;66;03m#note for future Raisa: set b = board() outside the write() function and then put b into the write() function as an argument\u001b[39;00m\n\u001b[0;32m     87\u001b[0m     \u001b[38;5;66;03m#i think you tried this and it failed but try it\u001b[39;00m\n\u001b[1;32m---> 89\u001b[0m \u001b[43mwrite\u001b[49m\u001b[43m(\u001b[49m\u001b[43mb\u001b[49m\u001b[43m)\u001b[49m\n",
      "Input \u001b[1;32mIn [5]\u001b[0m, in \u001b[0;36mwrite\u001b[1;34m(grid)\u001b[0m\n\u001b[0;32m     27\u001b[0m \u001b[38;5;28;01mdef\u001b[39;00m \u001b[38;5;21mwrite\u001b[39m(grid): \u001b[38;5;66;03m#we're accessing the local variable grid to change \u001b[39;00m\n\u001b[0;32m     28\u001b[0m     u \u001b[38;5;241m=\u001b[39m user_input() \u001b[38;5;66;03m#I set the user and place functions as a variable so I can set them to X, O or a number \u001b[39;00m\n\u001b[1;32m---> 29\u001b[0m     p \u001b[38;5;241m=\u001b[39m \u001b[43mplace_input\u001b[49m\u001b[43m(\u001b[49m\u001b[43m)\u001b[49m \u001b[38;5;66;03m#between 1-9 for the if/else statements\u001b[39;00m\n\u001b[0;32m     30\u001b[0m     \u001b[38;5;66;03m#grid = [[1, 2, 3], [4, 5, 6], [7, 8, 9]] #I put this here because without this list, if gives an error\u001b[39;00m\n\u001b[0;32m     32\u001b[0m     \u001b[38;5;28;01mif\u001b[39;00m p\u001b[38;5;241m==\u001b[39m\u001b[38;5;241m1\u001b[39m \u001b[38;5;129;01mand\u001b[39;00m u\u001b[38;5;241m.\u001b[39mupper()\u001b[38;5;241m==\u001b[39m\u001b[38;5;124m\"\u001b[39m\u001b[38;5;124mX\u001b[39m\u001b[38;5;124m\"\u001b[39m:\n",
      "Input \u001b[1;32mIn [5]\u001b[0m, in \u001b[0;36mplace_input\u001b[1;34m()\u001b[0m\n\u001b[0;32m     18\u001b[0m \u001b[38;5;28;01mdef\u001b[39;00m \u001b[38;5;21mplace_input\u001b[39m():\n\u001b[1;32m---> 19\u001b[0m     place \u001b[38;5;241m=\u001b[39m \u001b[38;5;28;43mint\u001b[39;49m\u001b[43m(\u001b[49m\u001b[38;5;28;43minput\u001b[39;49m\u001b[43m(\u001b[49m\u001b[38;5;124;43m\"\u001b[39;49m\u001b[38;5;124;43mPut down where you want to put X or O: \u001b[39;49m\u001b[38;5;124;43m\"\u001b[39;49m\u001b[43m)\u001b[49m\u001b[43m)\u001b[49m\n\u001b[0;32m     20\u001b[0m     \u001b[38;5;28;01mwhile\u001b[39;00m (place\u001b[38;5;241m<\u001b[39m\u001b[38;5;241m1\u001b[39m \u001b[38;5;129;01mor\u001b[39;00m place\u001b[38;5;241m>\u001b[39m\u001b[38;5;241m9\u001b[39m):\n\u001b[0;32m     21\u001b[0m         \u001b[38;5;28mprint\u001b[39m(\u001b[38;5;124m\"\u001b[39m\u001b[38;5;124mPlease put down a REAL place on the tic tac toe table\u001b[39m\u001b[38;5;124m\"\u001b[39m)\n",
      "\u001b[1;31mValueError\u001b[0m: invalid literal for int() with base 10: '1.1'"
     ]
    }
   ],
   "source": [
    "def board(): #we have the board function\n",
    "    grid = [[1, 2, 3], [4, 5, 6], [7, 8, 9]]\n",
    "    \n",
    "    print(str(grid[0][0]) + \"|\" + str(grid[0][1]) + \"|\" + str(grid[0][2]), end = \"\\n\")\n",
    "    print(str(grid[1][0]) + \"|\" + str(grid[1][1]) + \"|\" + str(grid[1][2]), end = \"\\n\")\n",
    "    print(str(grid[2][0]) + \"|\" + str(grid[2][1]) + \"|\" + str(grid[2][2]))\n",
    "    \n",
    "    return grid #this saves grid into variable b\n",
    "\n",
    "\n",
    "def user_input(): \n",
    "    user = input(\"First enter X or O: \")\n",
    "    while not (user.upper()==\"X\" or user.upper()==\"O\"):\n",
    "        print(\"Please put down X or O. I just wanna play :(\")\n",
    "        user = input(\"First enter X or O: \")\n",
    "    return user\n",
    "\n",
    "def place_input():\n",
    "    place = int(input(\"Put down where you want to put X or O: \"))\n",
    "    while (place<1 or place>9):\n",
    "        print(\"Please put down a REAL place on the tic tac toe table\")\n",
    "        place = int(input(\"Put down where you want to put X or O: \"))\n",
    "    return place\n",
    "\n",
    "b = board()\n",
    "\n",
    "def write(grid): #we're accessing the local variable grid to change \n",
    "    u = user_input() #I set the user and place functions as a variable so I can set them to X, O or a number \n",
    "    p = place_input() #between 1-9 for the if/else statements\n",
    "    #grid = [[1, 2, 3], [4, 5, 6], [7, 8, 9]] #I put this here because without this list, if gives an error\n",
    "    \n",
    "    if p==1 and u.upper()==\"X\":\n",
    "        grid[0][0] = \"X\" #setting one of the places to X if the user picks this option...\n",
    "    elif p==2 and u.upper()==\"X\":\n",
    "        grid[0][1] = \"X\"\n",
    "    elif p==3 and u.upper()==\"X\":\n",
    "        grid[0][2] = \"X\"\n",
    "    elif p==4 and u.upper()==\"X\":\n",
    "        grid[1][0] = \"X\"\n",
    "    elif p==5 and u.upper()==\"X\":\n",
    "        grid[1][1] = \"X\"\n",
    "    elif p==6 and u.upper()==\"X\":\n",
    "        grid[1][2] = \"X\"\n",
    "    elif p==7 and u.upper()==\"X\":\n",
    "        grid[2][0] = \"X\"\n",
    "    elif p==8 and u.upper()==\"X\":\n",
    "        grid[2][1] = \"X\"\n",
    "    elif p==9 and u.upper()==\"X\":\n",
    "        grid[2][2] = \"X\"\n",
    "    elif p==1 and u.upper()==\"O\": #...did the same for O and the other places on the board\n",
    "        grid[0][0] = \"O\"\n",
    "    elif p==2 and u.upper()==\"O\":\n",
    "        grid[0][1] = \"O\"\n",
    "    elif p==3 and u.upper()==\"O\":\n",
    "        grid[0][2] = \"O\"\n",
    "    elif p==4 and u.upper()==\"O\":\n",
    "        grid[1][0] = \"O\"\n",
    "    elif p==5 and u.upper()==\"O\":\n",
    "        grid[1][1] = \"O\"\n",
    "    elif p==6 and u.upper()==\"O\":\n",
    "        grid[1][2] = \"O\"\n",
    "    elif p==7 and u.upper()==\"O\":\n",
    "        grid[2][0] = \"O\"\n",
    "    elif p==8 and u.upper()==\"O\":\n",
    "        grid[2][1] = \"O\"\n",
    "    elif p==9 and u.upper()==\"O\":\n",
    "        grid[2][2] = \"O\"\n",
    "    \n",
    "    print(str(grid[0][0]) + \"|\" + str(grid[0][1]) + \"|\" + str(grid[0][2]), end = \"\\n\")\n",
    "    print(str(grid[1][0]) + \"|\" + str(grid[1][1]) + \"|\" + str(grid[1][2]), end = \"\\n\")\n",
    "    print(str(grid[2][0]) + \"|\" + str(grid[2][1]) + \"|\" + str(grid[2][2]))\n",
    "    #this is where I'm having trouble - from the previous 2 code blocks I thought that\n",
    "    #I had already set the variables to X or O and changed the grid list values and \n",
    "    #putting in print statements will give the grid with X and O values\n",
    "    #but the if/else statements aren't saving them like I thought they would be.\n",
    "    #don't know what else to do \n",
    "    #I tried putting the print statements within the if/else statements but that didn't put out anything\n",
    "    \n",
    "    #In your draw() program the problem you are having is that you don't pass in the board as a parameter \n",
    "    #and it doesn't return the board, \n",
    "    #so it creates a new local variable called grid that is not returned or saved anywhere. \n",
    "    #You'll have to pass in the board as an argument to the function. \n",
    "    #This always creates a reference to the original and not actually a copy. \n",
    "    #We can talk more about this and what that means and why it matters.\n",
    "    \n",
    "    #note for future Raisa: set b = board() outside the write() function and then put b into the write() function as an argument\n",
    "    #i think you tried this and it failed but try it\n",
    "\n",
    "write(b)"
   ]
  },
  {
   "cell_type": "markdown",
   "id": "742c717b",
   "metadata": {},
   "source": [
    "As you can see, it's giving the wrong input because it ONLY prints out the initial empty board. It's not saving the X or O inputs in the if/else statements and I don't know how to to fix it.\n",
    "\n",
    "This is only the \"1st step.\" Later on, I'm going to add the computer's turn and add a for loop so that it keeps going and the player can keep playing."
   ]
  },
  {
   "cell_type": "code",
   "execution_count": null,
   "id": "5d71e187",
   "metadata": {},
   "outputs": [],
   "source": [
    "#peer review feedback\n",
    "#I was thinking of doing something similar to this. What I found is that after creating the board, \n",
    "#you should have a function that runs after every move that sort of checks for a winner. \n",
    "#That way, since each box is an individual number, you can have something where if 1, 2, and 3 are ==, winner, \n",
    "#and so on for each possible combo. I think that it would also help to just make the user select a row and column instead of a specific square. \n",
    "#To help with the board, maybe you can start with something like user = 1, and then after the prompt of selecting your move, \n",
    "#you can make it so that all the boxes are 0 to start, \n",
    "#and then when someone moves there, it becomes a 1. \n",
    "#Then, board[row][column] = user, which would make that spot a 1 instead of a 0, and now you just have to print the board again. \n",
    "#I hope that can help"
   ]
  },
  {
   "cell_type": "code",
   "execution_count": null,
   "id": "c8f504a4",
   "metadata": {},
   "outputs": [],
   "source": [
    "def board(): #we have the board function\n",
    "    grid = [[1, 2, 3], [4, 5, 6], [7, 8, 9]]\n",
    "    return str(grid[0][0]) + \"|\" + str(grid[0][1]) + \"|\" + str(grid[0][2]) + str(grid[1][0]) + \"|\" + str(grid[1][1]) + \"|\" + str(grid[1][2] + str(grid[2][0]) + \"|\" + str(grid[2][1]) + \"|\" + str(grid[2][2])\n"
   ]
  },
  {
   "cell_type": "code",
   "execution_count": null,
   "id": "bd4c365d",
   "metadata": {},
   "outputs": [],
   "source": []
  }
 ],
 "metadata": {
  "kernelspec": {
   "display_name": "Python 3 (ipykernel)",
   "language": "python",
   "name": "python3"
  },
  "language_info": {
   "codemirror_mode": {
    "name": "ipython",
    "version": 3
   },
   "file_extension": ".py",
   "mimetype": "text/x-python",
   "name": "python",
   "nbconvert_exporter": "python",
   "pygments_lexer": "ipython3",
   "version": "3.9.12"
  }
 },
 "nbformat": 4,
 "nbformat_minor": 5
}
