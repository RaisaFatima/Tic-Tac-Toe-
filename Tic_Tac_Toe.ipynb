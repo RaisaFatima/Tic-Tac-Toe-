{
 "cells": [
  {
   "cell_type": "markdown",
   "id": "ca64adc8",
   "metadata": {},
   "source": [
    "### Tic Tac Toe Draft Project\n",
    "For the final project, I'm doing a tic tac toe game. I couldn't get the tic tac toe game to run so far but did my best to explain what I did and what (I think) is going on. I'ld really appreciate feedback on the peer review on what I can do to fix these issues. \n",
    "\n",
    "What I first did is separate out the project into 3 different parts and ran each of them individually to make sure they were working. And then I put them altogether at the end to see how to make it work. I also have some other blocks of code experimenting with getting the output to work."
   ]
  },
  {
   "cell_type": "markdown",
   "id": "d1bf72df",
   "metadata": {},
   "source": [
    "#### An empty Tic Tac Toe board\n",
    "First I created a function that prints out an empty tic tac toe board so that the player can see the board places. This function  is working ok."
   ]
  },
  {
   "cell_type": "code",
   "execution_count": null,
   "id": "e0cad189",
   "metadata": {},
   "outputs": [],
   "source": [
    "def board():\n",
    "    grid = [[1, 2, 3], [4, 5, 6], [7, 8, 9]]\n",
    "    \n",
    "    print(str(grid[0][0]) + \"|\" + str(grid[0][1]) + \"|\" + str(grid[0][2]), end = \"\\n\")\n",
    "    print(str(grid[1][0]) + \"|\" + str(grid[1][1]) + \"|\" + str(grid[1][2]), end = \"\\n\")\n",
    "    print(str(grid[2][0]) + \"|\" + str(grid[2][1]) + \"|\" + str(grid[2][2]))\n",
    "\n",
    "board()"
   ]
  },
  {
   "cell_type": "markdown",
   "id": "f6003e14",
   "metadata": {},
   "source": [
    "#### Picking between X or O and Board Placement\n",
    "Then I made functions based on the user input (pick X or O) and place input (pick a number to put X or O there). I wanted to put in \"checks\" where the program tells the user to put an X or O or put any number from 1-9 if the user does neither of these things but had trouble with that as well. Feedback here would be appreciated."
   ]
  },
  {
   "cell_type": "code",
   "execution_count": null,
   "id": "81edd74e",
   "metadata": {},
   "outputs": [],
   "source": [
    "def user_input():\n",
    "    user = input(\"First enter X or O: \")\n",
    "    #if user.upper()!=\"X\" or user.upper()!=\"O\": #I was trying to put in checks for the user input but had issues\n",
    "        #print(\"Please put down X or O. I just wanna play :(\")\n",
    "        #break\n",
    "\n",
    "def place_input():\n",
    "    place = int(input(\"Put down where you want to put X or O: \"))\n",
    "    #if place<1 or place>9:\n",
    "    #print(\"Please put down a REAL place on the tic tac toe table\") \n",
    "    #break\n",
    "    #I was trying to put in checks for the place input but had issues\n",
    "    \n",
    "user_input()\n",
    "place_input()\n",
    "\n",
    "#corrected part now in the \"Putting it all together section\""
   ]
  },
  {
   "cell_type": "markdown",
   "id": "647127cb",
   "metadata": {},
   "source": [
    "#### Experimenting with changing lists\n",
    "As you can see in the board function, I made a list of lists.  I first tested out modifying lists using a user input."
   ]
  },
  {
   "cell_type": "code",
   "execution_count": null,
   "id": "d4ab9cb7",
   "metadata": {},
   "outputs": [],
   "source": [
    "a = int(input()) #from 0 to 4\n",
    "\n",
    "#store things in array\n",
    "eg = [1, 2, 3, 4, 5]\n",
    "print(str(eg[0]) + \"|\" + str(eg[a]))\n",
    "eg[0] = \"X\"\n",
    "print(str(eg[0]) + \"|\" + str(eg[a]))"
   ]
  },
  {
   "cell_type": "markdown",
   "id": "e9670de7",
   "metadata": {},
   "source": [
    "I then tried testing modifying a list of lists. I then tried to uses what I had here in these blocks of code and apply it below."
   ]
  },
  {
   "cell_type": "code",
   "execution_count": null,
   "id": "c4e44adb",
   "metadata": {},
   "outputs": [],
   "source": [
    "f = [[1, 2, 3], [4, 5, 6], [7, 8, 9]]\n",
    "print(str(f[0][0]))\n",
    "f[0][0] = \"X\"\n",
    "print(str(f[0][0]))"
   ]
  },
  {
   "cell_type": "markdown",
   "id": "fe2bb44d",
   "metadata": {},
   "source": [
    "#### Putting it all together...."
   ]
  },
  {
   "cell_type": "code",
   "execution_count": 7,
   "id": "0013a08a",
   "metadata": {},
   "outputs": [
    {
     "name": "stdout",
     "output_type": "stream",
     "text": [
      "1|2|3\n",
      "4|5|6\n",
      "7|8|9\n",
      "First enter X or O: x\n",
      "Put down where you want to put X or O: 5\n",
      "1|2|3\n",
      "4|X|6\n",
      "7|8|9\n"
     ]
    }
   ],
   "source": [
    "def board(): #we have the board function\n",
    "    grid = [[1, 2, 3], [4, 5, 6], [7, 8, 9]]\n",
    "    \n",
    "    print(str(grid[0][0]) + \"|\" + str(grid[0][1]) + \"|\" + str(grid[0][2]), end = \"\\n\")\n",
    "    print(str(grid[1][0]) + \"|\" + str(grid[1][1]) + \"|\" + str(grid[1][2]), end = \"\\n\")\n",
    "    print(str(grid[2][0]) + \"|\" + str(grid[2][1]) + \"|\" + str(grid[2][2]))\n",
    "    \n",
    "    return grid #this saves grid into variable b\n",
    "\n",
    "\n",
    "def user_input(): \n",
    "    user = input(\"First enter X or O: \")\n",
    "    while not (user.upper()==\"X\" or user.upper()==\"O\"):\n",
    "        print(\"Please put down X or O. I just wanna play :(\")\n",
    "        user = input(\"First enter X or O: \")\n",
    "    return user\n",
    "\n",
    "def place_input():\n",
    "    place = int(input(\"Put down where you want to put X or O: \"))\n",
    "    while (place<1 or place>9):\n",
    "        print(\"Please put down a REAL place on the tic tac toe table\")\n",
    "        place = int(input(\"Put down where you want to put X or O: \"))\n",
    "    return place\n",
    "\n",
    "b = board()\n",
    "\n",
    "def write(grid): #we're accessing the local variable grid to change \n",
    "    u = user_input() #I set the user and place functions as a variable so I can set them to X, O or a number \n",
    "    p = place_input() #between 1-9 for the if/else statements\n",
    "    #grid = [[1, 2, 3], [4, 5, 6], [7, 8, 9]] #I put this here because without this list, if gives an error\n",
    "    \n",
    "    if p==1 and u.upper()==\"X\":\n",
    "        grid[0][0] = \"X\" #setting one of the places to X if the user picks this option...\n",
    "    elif p==2 and u.upper()==\"X\":\n",
    "        grid[0][1] = \"X\"\n",
    "    elif p==3 and u.upper()==\"X\":\n",
    "        grid[0][2] = \"X\"\n",
    "    elif p==4 and u.upper()==\"X\":\n",
    "        grid[1][0] = \"X\"\n",
    "    elif p==5 and u.upper()==\"X\":\n",
    "        grid[1][1] = \"X\"\n",
    "    elif p==6 and u.upper()==\"X\":\n",
    "        grid[1][2] = \"X\"\n",
    "    elif p==7 and u.upper()==\"X\":\n",
    "        grid[2][0] = \"X\"\n",
    "    elif p==8 and u.upper()==\"X\":\n",
    "        grid[2][1] = \"X\"\n",
    "    elif p==9 and u.upper()==\"X\":\n",
    "        grid[2][2] = \"X\"\n",
    "    elif p==1 and u.upper()==\"O\": #...did the same for O and the other places on the board\n",
    "        grid[0][0] = \"O\"\n",
    "    elif p==2 and u.upper()==\"O\":\n",
    "        grid[0][1] = \"O\"\n",
    "    elif p==3 and u.upper()==\"O\":\n",
    "        grid[0][2] = \"O\"\n",
    "    elif p==4 and u.upper()==\"O\":\n",
    "        grid[1][0] = \"O\"\n",
    "    elif p==5 and u.upper()==\"O\":\n",
    "        grid[1][1] = \"O\"\n",
    "    elif p==6 and u.upper()==\"O\":\n",
    "        grid[1][2] = \"O\"\n",
    "    elif p==7 and u.upper()==\"O\":\n",
    "        grid[2][0] = \"O\"\n",
    "    elif p==8 and u.upper()==\"O\":\n",
    "        grid[2][1] = \"O\"\n",
    "    elif p==9 and u.upper()==\"O\":\n",
    "        grid[2][2] = \"O\"\n",
    "    \n",
    "    print(str(grid[0][0]) + \"|\" + str(grid[0][1]) + \"|\" + str(grid[0][2]), end = \"\\n\")\n",
    "    print(str(grid[1][0]) + \"|\" + str(grid[1][1]) + \"|\" + str(grid[1][2]), end = \"\\n\")\n",
    "    print(str(grid[2][0]) + \"|\" + str(grid[2][1]) + \"|\" + str(grid[2][2]))\n",
    "    #this is where I'm having trouble - from the previous 2 code blocks I thought that\n",
    "    #I had already set the variables to X or O and changed the grid list values and \n",
    "    #putting in print statements will give the grid with X and O values\n",
    "    #but the if/else statements aren't saving them like I thought they would be.\n",
    "    #don't know what else to do \n",
    "    #I tried putting the print statements within the if/else statements but that didn't put out anything\n",
    "    \n",
    "    #In your draw() program the problem you are having is that you don't pass in the board as a parameter \n",
    "    #and it doesn't return the board, \n",
    "    #so it creates a new local variable called grid that is not returned or saved anywhere. \n",
    "    #You'll have to pass in the board as an argument to the function. \n",
    "    #This always creates a reference to the original and not actually a copy. \n",
    "    #We can talk more about this and what that means and why it matters.\n",
    "    \n",
    "    #note for future Raisa: set b = board() outside the write() function and then put b into the write() function as an argument\n",
    "    #i think you tried this and it failed but try it\n",
    "\n",
    "write(b)"
   ]
  },
  {
   "cell_type": "markdown",
   "id": "742c717b",
   "metadata": {},
   "source": [
    "As you can see, it's giving the wrong input because it ONLY prints out the initial empty board. It's not saving the X or O inputs in the if/else statements and I don't know how to to fix it.\n",
    "\n",
    "This is only the \"1st step.\" Later on, I'm going to add the computer's turn and add a for loop so that it keeps going and the player can keep playing."
   ]
  },
  {
   "cell_type": "code",
   "execution_count": null,
   "id": "5d71e187",
   "metadata": {},
   "outputs": [],
   "source": [
    "#peer review feedback\n",
    "#I was thinking of doing something similar to this. What I found is that after creating the board, \n",
    "#you should have a function that runs after every move that sort of checks for a winner. \n",
    "#That way, since each box is an individual number, you can have something where if 1, 2, and 3 are ==, winner, \n",
    "#and so on for each possible combo. I think that it would also help to just make the user select a row and column instead of a specific square. \n",
    "#To help with the board, maybe you can start with something like user = 1, and then after the prompt of selecting your move, \n",
    "#you can make it so that all the boxes are 0 to start, \n",
    "#and then when someone moves there, it becomes a 1. \n",
    "#Then, board[row][column] = user, which would make that spot a 1 instead of a 0, and now you just have to print the board again. \n",
    "#I hope that can help"
   ]
  },
  {
   "cell_type": "markdown",
   "id": "51e7b847",
   "metadata": {},
   "source": [
    "#### Next steps...\n",
    "\n",
    "Prof Ackles helped with fixing the issues like how the board wasn't printing X and O and the user input checks. Next steps include put the code above in a loop so the game continues. THEN it is to see how we can make the computer do intelligent decisions like if it's 3 X or 3 O in a row the computer or user wins (idk how to do this part)."
   ]
  },
  {
   "cell_type": "code",
   "execution_count": null,
   "id": "bd4c365d",
   "metadata": {},
   "outputs": [],
   "source": [
    "# ideas on how to get started...\n",
    "#create a loop that calls the write function within the loop\n",
    "\n",
    "#for ... ():\n",
    "    #call the write function (I think you need to add a return statement with return grid)\n",
    "\n",
    "#reliazed i need to add an option where if user picks o then cimputer picks x or if user picks x then cimputer picks o\n",
    "\n",
    "#don't know how to do the intelligent bit "
   ]
  }
 ],
 "metadata": {
  "kernelspec": {
   "display_name": "Python 3 (ipykernel)",
   "language": "python",
   "name": "python3"
  },
  "language_info": {
   "codemirror_mode": {
    "name": "ipython",
    "version": 3
   },
   "file_extension": ".py",
   "mimetype": "text/x-python",
   "name": "python",
   "nbconvert_exporter": "python",
   "pygments_lexer": "ipython3",
   "version": "3.9.12"
  }
 },
 "nbformat": 4,
 "nbformat_minor": 5
}
