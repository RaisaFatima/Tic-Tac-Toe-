{
 "cells": [
  {
   "cell_type": "code",
   "execution_count": null,
   "id": "e413c2c2",
   "metadata": {},
   "outputs": [],
   "source": []
  },
  {
   "cell_type": "code",
   "execution_count": 26,
   "id": "bb300447",
   "metadata": {},
   "outputs": [
    {
     "name": "stdout",
     "output_type": "stream",
     "text": [
      "     |      |      \n",
      "-------------------\n",
      "     |      |      \n",
      "-------------------\n",
      "     |      |      \n"
     ]
    }
   ],
   "source": [
    "#the tic tac toe \"table\"\n",
    "print(\"     |      |      \")\n",
    "print(\"-------------------\")\n",
    "print(\"     |      |      \")\n",
    "print(\"-------------------\")\n",
    "print(\"     |      |      \")"
   ]
  },
  {
   "cell_type": "code",
   "execution_count": 29,
   "id": "32a07abf",
   "metadata": {},
   "outputs": [
    {
     "name": "stdout",
     "output_type": "stream",
     "text": [
      "1|2|3\n",
      "-----\n",
      "4|5|6\n",
      "-----\n",
      "7|8|9\n"
     ]
    }
   ],
   "source": [
    "#the tic tac toe \"table\" battleship style layout\n",
    "print(\"1|2|3\")\n",
    "print(\"-----\")\n",
    "print(\"4|5|6\")\n",
    "print(\"-----\")\n",
    "print(\"7|8|9\")"
   ]
  },
  {
   "cell_type": "code",
   "execution_count": null,
   "id": "34e021af",
   "metadata": {},
   "outputs": [],
   "source": []
  },
  {
   "cell_type": "code",
   "execution_count": 66,
   "id": "fbab3ce7",
   "metadata": {},
   "outputs": [
    {
     "name": "stdout",
     "output_type": "stream",
     "text": [
      "First enter X or O: o\n",
      "Put down where you want to put X or O: 3\n",
      "fine\n",
      "ok\n"
     ]
    }
   ],
   "source": [
    "user = input(\"First enter X or O: \")\n",
    "place = input(\"Put down where you want to put X or O: \")\n",
    "\n",
    "if user.upper()==\"X\" or user.upper()==\"O\": #how to make this part more succint/efficient?\n",
    "    #There has to be a better way with lower() or upper()\n",
    "    print(\"fine\") #change this to the output you want to put in \n",
    "else:\n",
    "    print(\"Please put down X or O. I just wanna play :(\")\n",
    "\n",
    "if place==\"1\" or place==\"2\" or place==\"3\" or place==\"4\" or place==\"5\" or place==\"6\" or place==\"7\" or place==\"8\" or place==\"9\":\n",
    "    print(\"ok\")\n",
    "else:\n",
    "    print(\"Please put down a REAL place on the tic tac toe table\")"
   ]
  },
  {
   "cell_type": "code",
   "execution_count": 74,
   "id": "9145a410",
   "metadata": {},
   "outputs": [
    {
     "name": "stdout",
     "output_type": "stream",
     "text": [
      "First enter X or O: g\n",
      "Put down where you want to put X or O: 4\n",
      "ok\n"
     ]
    }
   ],
   "source": [
    "user = input(\"First enter X or O: \")\n",
    "place = int(input(\"Put down where you want to put X or O: \")) \n",
    "\n",
    "if place==1 and user.upper()==\"X\": \n",
    "    print(\"X|2|3\")\n",
    "    print(\"-----\")\n",
    "    print(\"4|5|6\")\n",
    "    print(\"-----\")\n",
    "    print(\"7|8|9\")\n",
    "elif place==2 and user.upper()==\"X\":\n",
    "    print(\"1|X|3\")\n",
    "    print(\"-----\")\n",
    "    print(\"4|5|6\")\n",
    "    print(\"-----\")\n",
    "    print(\"7|8|9\")\n",
    "else:\n",
    "    print(\"ok\")"
   ]
  },
  {
   "cell_type": "code",
   "execution_count": null,
   "id": "1c6b7d13",
   "metadata": {},
   "outputs": [],
   "source": []
  },
  {
   "cell_type": "code",
   "execution_count": null,
   "id": "e0cad189",
   "metadata": {},
   "outputs": [],
   "source": []
  }
 ],
 "metadata": {
  "kernelspec": {
   "display_name": "Python 3 (ipykernel)",
   "language": "python",
   "name": "python3"
  },
  "language_info": {
   "codemirror_mode": {
    "name": "ipython",
    "version": 3
   },
   "file_extension": ".py",
   "mimetype": "text/x-python",
   "name": "python",
   "nbconvert_exporter": "python",
   "pygments_lexer": "ipython3",
   "version": "3.9.12"
  }
 },
 "nbformat": 4,
 "nbformat_minor": 5
}
